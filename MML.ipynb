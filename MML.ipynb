{
  "nbformat": 4,
  "nbformat_minor": 0,
  "metadata": {
    "colab": {
      "provenance": [],
      "machine_shape": "hm",
      "gpuType": "T4"
    },
    "kernelspec": {
      "name": "python3",
      "display_name": "Python 3"
    },
    "language_info": {
      "name": "python"
    },
    "accelerator": "GPU"
  },
  "cells": [
    {
      "cell_type": "code",
      "execution_count": null,
      "metadata": {
        "colab": {
          "base_uri": "https://localhost:8080/"
        },
        "id": "gVm30e7F9cyw",
        "outputId": "ade11843-e26c-425b-b17e-4cc41cb9d1c2"
      },
      "outputs": [
        {
          "output_type": "stream",
          "name": "stdout",
          "text": [
            "Mounted at /content/drive\n"
          ]
        }
      ],
      "source": [
        "from google.colab import drive\n",
        "drive.mount('/content/drive')"
      ]
    },
    {
      "cell_type": "code",
      "source": [
        "import os\n",
        "import glob\n",
        "import cv2\n",
        "import gc\n",
        "import numpy as np\n",
        "import pandas as pd\n",
        "from sklearn.model_selection import train_test_split\n",
        "import tensorflow as tf\n",
        "\n",
        "from sklearn.metrics import roc_curve, auc, confusion_matrix, ConfusionMatrixDisplay\n",
        "import matplotlib.pyplot as plt\n",
        "from sklearn.metrics import precision_score, recall_score, f1_score, accuracy_score, matthews_corrcoef"
      ],
      "metadata": {
        "id": "pvUY9BRo_7Vy"
      },
      "execution_count": null,
      "outputs": []
    },
    {
      "cell_type": "code",
      "source": [
        "path_to_project = '/content/drive/MyDrive/196.Code_paper_biomedical_signal'"
      ],
      "metadata": {
        "id": "7dNmjvPFAFGW"
      },
      "execution_count": null,
      "outputs": []
    },
    {
      "cell_type": "code",
      "source": [
        "!cp '{path_to_project}/data/data.zip' /content/data.zip\n",
        "!unzip /content/data.zip -d /content/"
      ],
      "metadata": {
        "id": "RoVuGBmX_-nP"
      },
      "execution_count": null,
      "outputs": []
    },
    {
      "cell_type": "code",
      "source": [
        "df_file = pd.read_csv(path_to_project+ '/data/data_img_name.csv')\n",
        "df_file.head()"
      ],
      "metadata": {
        "colab": {
          "base_uri": "https://localhost:8080/",
          "height": 226
        },
        "id": "bhA9KYGoAFy3",
        "outputId": "093c494d-ee79-413a-cdbf-0f82428e81f7"
      },
      "execution_count": null,
      "outputs": [
        {
          "output_type": "execute_result",
          "data": {
            "text/plain": [
              "                                        img_path_40x  \\\n",
              "0  /content/data/binary_classes/fold1/train/40X/B...   \n",
              "1  /content/data/binary_classes/fold1/train/40X/B...   \n",
              "2  /content/data/binary_classes/fold1/train/40X/B...   \n",
              "3  /content/data/binary_classes/fold1/train/40X/B...   \n",
              "4  /content/data/binary_classes/fold1/train/40X/B...   \n",
              "\n",
              "                                       img_path_100x  \\\n",
              "0  /content/data/binary_classes/fold1/train/100X/...   \n",
              "1  /content/data/binary_classes/fold1/train/100X/...   \n",
              "2  /content/data/binary_classes/fold1/train/100X/...   \n",
              "3  /content/data/binary_classes/fold1/train/100X/...   \n",
              "4  /content/data/binary_classes/fold1/train/100X/...   \n",
              "\n",
              "                                       img_path_200x  \\\n",
              "0  /content/data/binary_classes/fold1/train/200X/...   \n",
              "1  /content/data/binary_classes/fold1/train/200X/...   \n",
              "2  /content/data/binary_classes/fold1/train/200X/...   \n",
              "3  /content/data/binary_classes/fold1/train/200X/...   \n",
              "4  /content/data/binary_classes/fold1/train/200X/...   \n",
              "\n",
              "                                       img_path_400x flag_status  label  \n",
              "0  /content/data/binary_classes/fold1/train/400X/...       train      0  \n",
              "1  /content/data/binary_classes/fold1/train/400X/...       train      0  \n",
              "2  /content/data/binary_classes/fold1/train/400X/...       train      0  \n",
              "3  /content/data/binary_classes/fold1/train/400X/...       train      0  \n",
              "4  /content/data/binary_classes/fold1/train/400X/...       train      0  "
            ],
            "text/html": [
              "\n",
              "  <div id=\"df-964baf44-b89e-420f-99ec-337cf0d24a3f\" class=\"colab-df-container\">\n",
              "    <div>\n",
              "<style scoped>\n",
              "    .dataframe tbody tr th:only-of-type {\n",
              "        vertical-align: middle;\n",
              "    }\n",
              "\n",
              "    .dataframe tbody tr th {\n",
              "        vertical-align: top;\n",
              "    }\n",
              "\n",
              "    .dataframe thead th {\n",
              "        text-align: right;\n",
              "    }\n",
              "</style>\n",
              "<table border=\"1\" class=\"dataframe\">\n",
              "  <thead>\n",
              "    <tr style=\"text-align: right;\">\n",
              "      <th></th>\n",
              "      <th>img_path_40x</th>\n",
              "      <th>img_path_100x</th>\n",
              "      <th>img_path_200x</th>\n",
              "      <th>img_path_400x</th>\n",
              "      <th>flag_status</th>\n",
              "      <th>label</th>\n",
              "    </tr>\n",
              "  </thead>\n",
              "  <tbody>\n",
              "    <tr>\n",
              "      <th>0</th>\n",
              "      <td>/content/data/binary_classes/fold1/train/40X/B...</td>\n",
              "      <td>/content/data/binary_classes/fold1/train/100X/...</td>\n",
              "      <td>/content/data/binary_classes/fold1/train/200X/...</td>\n",
              "      <td>/content/data/binary_classes/fold1/train/400X/...</td>\n",
              "      <td>train</td>\n",
              "      <td>0</td>\n",
              "    </tr>\n",
              "    <tr>\n",
              "      <th>1</th>\n",
              "      <td>/content/data/binary_classes/fold1/train/40X/B...</td>\n",
              "      <td>/content/data/binary_classes/fold1/train/100X/...</td>\n",
              "      <td>/content/data/binary_classes/fold1/train/200X/...</td>\n",
              "      <td>/content/data/binary_classes/fold1/train/400X/...</td>\n",
              "      <td>train</td>\n",
              "      <td>0</td>\n",
              "    </tr>\n",
              "    <tr>\n",
              "      <th>2</th>\n",
              "      <td>/content/data/binary_classes/fold1/train/40X/B...</td>\n",
              "      <td>/content/data/binary_classes/fold1/train/100X/...</td>\n",
              "      <td>/content/data/binary_classes/fold1/train/200X/...</td>\n",
              "      <td>/content/data/binary_classes/fold1/train/400X/...</td>\n",
              "      <td>train</td>\n",
              "      <td>0</td>\n",
              "    </tr>\n",
              "    <tr>\n",
              "      <th>3</th>\n",
              "      <td>/content/data/binary_classes/fold1/train/40X/B...</td>\n",
              "      <td>/content/data/binary_classes/fold1/train/100X/...</td>\n",
              "      <td>/content/data/binary_classes/fold1/train/200X/...</td>\n",
              "      <td>/content/data/binary_classes/fold1/train/400X/...</td>\n",
              "      <td>train</td>\n",
              "      <td>0</td>\n",
              "    </tr>\n",
              "    <tr>\n",
              "      <th>4</th>\n",
              "      <td>/content/data/binary_classes/fold1/train/40X/B...</td>\n",
              "      <td>/content/data/binary_classes/fold1/train/100X/...</td>\n",
              "      <td>/content/data/binary_classes/fold1/train/200X/...</td>\n",
              "      <td>/content/data/binary_classes/fold1/train/400X/...</td>\n",
              "      <td>train</td>\n",
              "      <td>0</td>\n",
              "    </tr>\n",
              "  </tbody>\n",
              "</table>\n",
              "</div>\n",
              "    <div class=\"colab-df-buttons\">\n",
              "\n",
              "  <div class=\"colab-df-container\">\n",
              "    <button class=\"colab-df-convert\" onclick=\"convertToInteractive('df-964baf44-b89e-420f-99ec-337cf0d24a3f')\"\n",
              "            title=\"Convert this dataframe to an interactive table.\"\n",
              "            style=\"display:none;\">\n",
              "\n",
              "  <svg xmlns=\"http://www.w3.org/2000/svg\" height=\"24px\" viewBox=\"0 -960 960 960\">\n",
              "    <path d=\"M120-120v-720h720v720H120Zm60-500h600v-160H180v160Zm220 220h160v-160H400v160Zm0 220h160v-160H400v160ZM180-400h160v-160H180v160Zm440 0h160v-160H620v160ZM180-180h160v-160H180v160Zm440 0h160v-160H620v160Z\"/>\n",
              "  </svg>\n",
              "    </button>\n",
              "\n",
              "  <style>\n",
              "    .colab-df-container {\n",
              "      display:flex;\n",
              "      gap: 12px;\n",
              "    }\n",
              "\n",
              "    .colab-df-convert {\n",
              "      background-color: #E8F0FE;\n",
              "      border: none;\n",
              "      border-radius: 50%;\n",
              "      cursor: pointer;\n",
              "      display: none;\n",
              "      fill: #1967D2;\n",
              "      height: 32px;\n",
              "      padding: 0 0 0 0;\n",
              "      width: 32px;\n",
              "    }\n",
              "\n",
              "    .colab-df-convert:hover {\n",
              "      background-color: #E2EBFA;\n",
              "      box-shadow: 0px 1px 2px rgba(60, 64, 67, 0.3), 0px 1px 3px 1px rgba(60, 64, 67, 0.15);\n",
              "      fill: #174EA6;\n",
              "    }\n",
              "\n",
              "    .colab-df-buttons div {\n",
              "      margin-bottom: 4px;\n",
              "    }\n",
              "\n",
              "    [theme=dark] .colab-df-convert {\n",
              "      background-color: #3B4455;\n",
              "      fill: #D2E3FC;\n",
              "    }\n",
              "\n",
              "    [theme=dark] .colab-df-convert:hover {\n",
              "      background-color: #434B5C;\n",
              "      box-shadow: 0px 1px 3px 1px rgba(0, 0, 0, 0.15);\n",
              "      filter: drop-shadow(0px 1px 2px rgba(0, 0, 0, 0.3));\n",
              "      fill: #FFFFFF;\n",
              "    }\n",
              "  </style>\n",
              "\n",
              "    <script>\n",
              "      const buttonEl =\n",
              "        document.querySelector('#df-964baf44-b89e-420f-99ec-337cf0d24a3f button.colab-df-convert');\n",
              "      buttonEl.style.display =\n",
              "        google.colab.kernel.accessAllowed ? 'block' : 'none';\n",
              "\n",
              "      async function convertToInteractive(key) {\n",
              "        const element = document.querySelector('#df-964baf44-b89e-420f-99ec-337cf0d24a3f');\n",
              "        const dataTable =\n",
              "          await google.colab.kernel.invokeFunction('convertToInteractive',\n",
              "                                                    [key], {});\n",
              "        if (!dataTable) return;\n",
              "\n",
              "        const docLinkHtml = 'Like what you see? Visit the ' +\n",
              "          '<a target=\"_blank\" href=https://colab.research.google.com/notebooks/data_table.ipynb>data table notebook</a>'\n",
              "          + ' to learn more about interactive tables.';\n",
              "        element.innerHTML = '';\n",
              "        dataTable['output_type'] = 'display_data';\n",
              "        await google.colab.output.renderOutput(dataTable, element);\n",
              "        const docLink = document.createElement('div');\n",
              "        docLink.innerHTML = docLinkHtml;\n",
              "        element.appendChild(docLink);\n",
              "      }\n",
              "    </script>\n",
              "  </div>\n",
              "\n",
              "\n",
              "<div id=\"df-ddda58ef-4243-4375-868b-37607b337457\">\n",
              "  <button class=\"colab-df-quickchart\" onclick=\"quickchart('df-ddda58ef-4243-4375-868b-37607b337457')\"\n",
              "            title=\"Suggest charts\"\n",
              "            style=\"display:none;\">\n",
              "\n",
              "<svg xmlns=\"http://www.w3.org/2000/svg\" height=\"24px\"viewBox=\"0 0 24 24\"\n",
              "     width=\"24px\">\n",
              "    <g>\n",
              "        <path d=\"M19 3H5c-1.1 0-2 .9-2 2v14c0 1.1.9 2 2 2h14c1.1 0 2-.9 2-2V5c0-1.1-.9-2-2-2zM9 17H7v-7h2v7zm4 0h-2V7h2v10zm4 0h-2v-4h2v4z\"/>\n",
              "    </g>\n",
              "</svg>\n",
              "  </button>\n",
              "\n",
              "<style>\n",
              "  .colab-df-quickchart {\n",
              "      --bg-color: #E8F0FE;\n",
              "      --fill-color: #1967D2;\n",
              "      --hover-bg-color: #E2EBFA;\n",
              "      --hover-fill-color: #174EA6;\n",
              "      --disabled-fill-color: #AAA;\n",
              "      --disabled-bg-color: #DDD;\n",
              "  }\n",
              "\n",
              "  [theme=dark] .colab-df-quickchart {\n",
              "      --bg-color: #3B4455;\n",
              "      --fill-color: #D2E3FC;\n",
              "      --hover-bg-color: #434B5C;\n",
              "      --hover-fill-color: #FFFFFF;\n",
              "      --disabled-bg-color: #3B4455;\n",
              "      --disabled-fill-color: #666;\n",
              "  }\n",
              "\n",
              "  .colab-df-quickchart {\n",
              "    background-color: var(--bg-color);\n",
              "    border: none;\n",
              "    border-radius: 50%;\n",
              "    cursor: pointer;\n",
              "    display: none;\n",
              "    fill: var(--fill-color);\n",
              "    height: 32px;\n",
              "    padding: 0;\n",
              "    width: 32px;\n",
              "  }\n",
              "\n",
              "  .colab-df-quickchart:hover {\n",
              "    background-color: var(--hover-bg-color);\n",
              "    box-shadow: 0 1px 2px rgba(60, 64, 67, 0.3), 0 1px 3px 1px rgba(60, 64, 67, 0.15);\n",
              "    fill: var(--button-hover-fill-color);\n",
              "  }\n",
              "\n",
              "  .colab-df-quickchart-complete:disabled,\n",
              "  .colab-df-quickchart-complete:disabled:hover {\n",
              "    background-color: var(--disabled-bg-color);\n",
              "    fill: var(--disabled-fill-color);\n",
              "    box-shadow: none;\n",
              "  }\n",
              "\n",
              "  .colab-df-spinner {\n",
              "    border: 2px solid var(--fill-color);\n",
              "    border-color: transparent;\n",
              "    border-bottom-color: var(--fill-color);\n",
              "    animation:\n",
              "      spin 1s steps(1) infinite;\n",
              "  }\n",
              "\n",
              "  @keyframes spin {\n",
              "    0% {\n",
              "      border-color: transparent;\n",
              "      border-bottom-color: var(--fill-color);\n",
              "      border-left-color: var(--fill-color);\n",
              "    }\n",
              "    20% {\n",
              "      border-color: transparent;\n",
              "      border-left-color: var(--fill-color);\n",
              "      border-top-color: var(--fill-color);\n",
              "    }\n",
              "    30% {\n",
              "      border-color: transparent;\n",
              "      border-left-color: var(--fill-color);\n",
              "      border-top-color: var(--fill-color);\n",
              "      border-right-color: var(--fill-color);\n",
              "    }\n",
              "    40% {\n",
              "      border-color: transparent;\n",
              "      border-right-color: var(--fill-color);\n",
              "      border-top-color: var(--fill-color);\n",
              "    }\n",
              "    60% {\n",
              "      border-color: transparent;\n",
              "      border-right-color: var(--fill-color);\n",
              "    }\n",
              "    80% {\n",
              "      border-color: transparent;\n",
              "      border-right-color: var(--fill-color);\n",
              "      border-bottom-color: var(--fill-color);\n",
              "    }\n",
              "    90% {\n",
              "      border-color: transparent;\n",
              "      border-bottom-color: var(--fill-color);\n",
              "    }\n",
              "  }\n",
              "</style>\n",
              "\n",
              "  <script>\n",
              "    async function quickchart(key) {\n",
              "      const quickchartButtonEl =\n",
              "        document.querySelector('#' + key + ' button');\n",
              "      quickchartButtonEl.disabled = true;  // To prevent multiple clicks.\n",
              "      quickchartButtonEl.classList.add('colab-df-spinner');\n",
              "      try {\n",
              "        const charts = await google.colab.kernel.invokeFunction(\n",
              "            'suggestCharts', [key], {});\n",
              "      } catch (error) {\n",
              "        console.error('Error during call to suggestCharts:', error);\n",
              "      }\n",
              "      quickchartButtonEl.classList.remove('colab-df-spinner');\n",
              "      quickchartButtonEl.classList.add('colab-df-quickchart-complete');\n",
              "    }\n",
              "    (() => {\n",
              "      let quickchartButtonEl =\n",
              "        document.querySelector('#df-ddda58ef-4243-4375-868b-37607b337457 button');\n",
              "      quickchartButtonEl.style.display =\n",
              "        google.colab.kernel.accessAllowed ? 'block' : 'none';\n",
              "    })();\n",
              "  </script>\n",
              "</div>\n",
              "\n",
              "    </div>\n",
              "  </div>\n"
            ]
          },
          "metadata": {},
          "execution_count": 5
        }
      ]
    },
    {
      "cell_type": "code",
      "source": [
        "df_train, df_test = train_test_split(df_file, test_size=0.2, random_state=42)\n",
        "df_train = df_train.reset_index(drop = True)\n",
        "df_test = df_test.reset_index(drop = True)"
      ],
      "metadata": {
        "id": "JKsuQewqAuyP"
      },
      "execution_count": null,
      "outputs": []
    },
    {
      "cell_type": "code",
      "source": [
        "img_train = []\n",
        "label_train = []\n",
        "\n",
        "for i in range(0, len(df_train)):\n",
        "    img_4_type_tmp = []\n",
        "    img_40 = cv2.imread(df_train['img_path_40x'][i])\n",
        "    img_100 = cv2.imread(df_train['img_path_100x'][i])\n",
        "    img_200 = cv2.imread(df_train['img_path_200x'][i])\n",
        "    img_400 = cv2.imread(df_train['img_path_400x'][i])\n",
        "\n",
        "    img_4_type_tmp.append(img_40)\n",
        "    img_4_type_tmp.append(img_100)\n",
        "    img_4_type_tmp.append(img_200)\n",
        "    img_4_type_tmp.append(img_400)\n",
        "\n",
        "    img_train.append(img_4_type_tmp)\n",
        "    label_train.append(df_train['label'][i])\n",
        "label_train = np.array(label_train)"
      ],
      "metadata": {
        "id": "_o8ogY2LBZJX"
      },
      "execution_count": null,
      "outputs": []
    },
    {
      "cell_type": "code",
      "source": [
        "img_test = []\n",
        "label_test = []\n",
        "\n",
        "for i in range(0, len(df_test)):\n",
        "    img_4_type_tmp = []\n",
        "    img_40 = cv2.imread(df_test['img_path_40x'][i])\n",
        "    img_100 = cv2.imread(df_test['img_path_100x'][i])\n",
        "    img_200 = cv2.imread(df_test['img_path_200x'][i])\n",
        "    img_400 = cv2.imread(df_test['img_path_400x'][i])\n",
        "\n",
        "    img_4_type_tmp.append(img_40)\n",
        "    img_4_type_tmp.append(img_100)\n",
        "    img_4_type_tmp.append(img_200)\n",
        "    img_4_type_tmp.append(img_400)\n",
        "\n",
        "    img_test.append(img_4_type_tmp)\n",
        "    label_test.append(df_test['label'][i])\n",
        "label_test = np.array(label_test)"
      ],
      "metadata": {
        "id": "VwWC1EcE8AtW"
      },
      "execution_count": null,
      "outputs": []
    },
    {
      "cell_type": "code",
      "source": [
        "del img_40, img_100, img_200, img_400\n",
        "gc.collect()"
      ],
      "metadata": {
        "colab": {
          "base_uri": "https://localhost:8080/"
        },
        "id": "UdXfywy7EKo8",
        "outputId": "2cb3860d-2821-47ac-f88f-b667c7866278"
      },
      "execution_count": null,
      "outputs": [
        {
          "output_type": "execute_result",
          "data": {
            "text/plain": [
              "51"
            ]
          },
          "metadata": {},
          "execution_count": 9
        }
      ]
    },
    {
      "cell_type": "code",
      "source": [
        "len(img_train)"
      ],
      "metadata": {
        "colab": {
          "base_uri": "https://localhost:8080/"
        },
        "id": "9zSku_98BstJ",
        "outputId": "b2482895-c3ff-4ae4-8d1d-0027fe5162e6"
      },
      "execution_count": null,
      "outputs": [
        {
          "output_type": "execute_result",
          "data": {
            "text/plain": [
              "1246"
            ]
          },
          "metadata": {},
          "execution_count": 10
        }
      ]
    },
    {
      "cell_type": "code",
      "source": [
        "len(label_train)"
      ],
      "metadata": {
        "colab": {
          "base_uri": "https://localhost:8080/"
        },
        "id": "sxtI4Ji_D7lg",
        "outputId": "5e4c105c-53b4-4455-c4c2-86ab35c62448"
      },
      "execution_count": null,
      "outputs": [
        {
          "output_type": "execute_result",
          "data": {
            "text/plain": [
              "1246"
            ]
          },
          "metadata": {},
          "execution_count": 11
        }
      ]
    },
    {
      "cell_type": "code",
      "source": [
        "def preprocess_image(image):\n",
        "    # Bước 1: Thay đổi kích thước thành 128x128\n",
        "    image = cv2.resize(image, (128, 128))\n",
        "    # Bước 2: Chuyển sang không gian màu HSV\n",
        "    image_hsv = cv2.cvtColor(image, cv2.COLOR_BGR2HSV)\n",
        "    # Áp dụng cân bằng lược đồ cho kênh V\n",
        "    h, s, v = cv2.split(image_hsv)\n",
        "    v_equalized = cv2.equalizeHist(v)\n",
        "    image_hsv_equalized = cv2.merge((h, s, v_equalized))\n",
        "    # Chuyển lại sang không gian màu BGR\n",
        "    image = cv2.cvtColor(image_hsv_equalized, cv2.COLOR_HSV2BGR)\n",
        "\n",
        "    return image\n",
        "\n",
        "def preprocess_data(data):\n",
        "    preprocessed_data = []\n",
        "    for image in data:\n",
        "        preprocessed_image = preprocess_image(image)\n",
        "        preprocessed_data.append(preprocessed_image)\n",
        "    return preprocessed_data\n",
        "\n",
        "img_train= np.array(img_train)\n",
        "preprocessed_train_dataset = []\n",
        "for i in range(img_train.shape[0]):\n",
        "    preprocessed_image = preprocess_data(img_train[i])\n",
        "    preprocessed_train_dataset.append(preprocessed_image)\n",
        "preprocessed_train_dataset = np.array(preprocessed_train_dataset)"
      ],
      "metadata": {
        "colab": {
          "base_uri": "https://localhost:8080/"
        },
        "id": "_aaVMRxbD8yI",
        "outputId": "7ec8d905-b34b-48f2-deb6-b757343fcabb"
      },
      "execution_count": null,
      "outputs": [
        {
          "output_type": "stream",
          "name": "stderr",
          "text": [
            "<ipython-input-12-868d21fb453e>:22: VisibleDeprecationWarning: Creating an ndarray from ragged nested sequences (which is a list-or-tuple of lists-or-tuples-or ndarrays with different lengths or shapes) is deprecated. If you meant to do this, you must specify 'dtype=object' when creating the ndarray.\n",
            "  img_train= np.array(img_train)\n"
          ]
        }
      ]
    },
    {
      "cell_type": "code",
      "source": [
        "img_test= np.array(img_test)\n",
        "preprocessed_test_dataset = []\n",
        "for i in range(img_test.shape[0]):\n",
        "    preprocessed_image = preprocess_data(img_test[i])\n",
        "    preprocessed_test_dataset.append(preprocessed_image)\n",
        "preprocessed_test_dataset = np.array(preprocessed_test_dataset)"
      ],
      "metadata": {
        "id": "82kUs8up8E7T",
        "colab": {
          "base_uri": "https://localhost:8080/"
        },
        "outputId": "45f12097-ab20-4947-edab-c2ec2a4fea3d"
      },
      "execution_count": null,
      "outputs": [
        {
          "output_type": "stream",
          "name": "stderr",
          "text": [
            "<ipython-input-13-c309a448be9a>:1: VisibleDeprecationWarning: Creating an ndarray from ragged nested sequences (which is a list-or-tuple of lists-or-tuples-or ndarrays with different lengths or shapes) is deprecated. If you meant to do this, you must specify 'dtype=object' when creating the ndarray.\n",
            "  img_test= np.array(img_test)\n"
          ]
        }
      ]
    },
    {
      "cell_type": "code",
      "source": [
        "del img_train\n",
        "gc.collect()"
      ],
      "metadata": {
        "colab": {
          "base_uri": "https://localhost:8080/"
        },
        "id": "fMDLB8rCEBR4",
        "outputId": "e7482557-4bae-436c-d5ff-33c85cc270d0"
      },
      "execution_count": null,
      "outputs": [
        {
          "output_type": "execute_result",
          "data": {
            "text/plain": [
              "0"
            ]
          },
          "metadata": {},
          "execution_count": 35
        }
      ]
    },
    {
      "cell_type": "code",
      "source": [
        "x_train_40 = []\n",
        "x_train_100 = []\n",
        "x_train_200 = []\n",
        "x_train_400 = []\n",
        "\n",
        "for i in range(0, len(preprocessed_train_dataset)):\n",
        "    x_train_40.append(preprocessed_train_dataset[i][0])\n",
        "    x_train_100.append(preprocessed_train_dataset[i][1])\n",
        "    x_train_200.append(preprocessed_train_dataset[i][2])\n",
        "    x_train_400.append(preprocessed_train_dataset[i][3])\n",
        "\n",
        "x_train_40=np.array(x_train_40)\n",
        "x_train_100=np.array(x_train_100)\n",
        "x_train_200=np.array(x_train_200)\n",
        "x_train_400=np.array(x_train_400)"
      ],
      "metadata": {
        "id": "OjxdZOGPEStY"
      },
      "execution_count": null,
      "outputs": []
    },
    {
      "cell_type": "code",
      "source": [
        "x_test_40 = []\n",
        "x_test_100 = []\n",
        "x_test_200 = []\n",
        "x_test_400 = []\n",
        "\n",
        "for i in range(0, len(preprocessed_test_dataset)):\n",
        "    x_test_40.append(preprocessed_test_dataset[i][0])\n",
        "    x_test_100.append(preprocessed_test_dataset[i][1])\n",
        "    x_test_200.append(preprocessed_test_dataset[i][2])\n",
        "    x_test_400.append(preprocessed_test_dataset[i][3])\n",
        "\n",
        "x_test_40=np.array(x_test_40)\n",
        "x_test_100=np.array(x_test_100)\n",
        "x_test_200=np.array(x_test_200)\n",
        "x_test_400=np.array(x_test_400)"
      ],
      "metadata": {
        "id": "Pv6aqTgY8Hne"
      },
      "execution_count": null,
      "outputs": []
    },
    {
      "cell_type": "code",
      "source": [
        "!pip install numba\n",
        "\n",
        "from numba import cuda\n",
        "device = cuda.get_current_device()\n",
        "device.reset()"
      ],
      "metadata": {
        "colab": {
          "base_uri": "https://localhost:8080/"
        },
        "id": "H14uqdHryx0b",
        "outputId": "fc7e9cea-1e78-42e7-fe22-7adc91d7ef12"
      },
      "execution_count": null,
      "outputs": [
        {
          "output_type": "stream",
          "name": "stdout",
          "text": [
            "Requirement already satisfied: numba in /usr/local/lib/python3.10/dist-packages (0.58.1)\n",
            "Requirement already satisfied: llvmlite<0.42,>=0.41.0dev0 in /usr/local/lib/python3.10/dist-packages (from numba) (0.41.1)\n",
            "Requirement already satisfied: numpy<1.27,>=1.22 in /usr/local/lib/python3.10/dist-packages (from numba) (1.23.5)\n"
          ]
        }
      ]
    },
    {
      "cell_type": "code",
      "source": [
        "import tensorflow as tf\n",
        "from tensorflow.keras.layers import Input, Dense, concatenate, Flatten, Dropout\n",
        "from tensorflow.keras.models import Model\n",
        "from tensorflow.keras.applications import EfficientNetV2S\n",
        "from tensorflow.keras.optimizers import Lion, Adam\n",
        "\n",
        "# Define four sets of inputs\n",
        "input_size = (128, 128, 3)\n",
        "input_40X = Input(shape=input_size)\n",
        "input_100X = Input(shape=input_size)\n",
        "input_200X = Input(shape=input_size)\n",
        "input_400X = Input(shape=input_size)\n",
        "\n",
        "# Create shared EfficientNetB0 model for one input\n",
        "effnet_model = EfficientNetV2S(input_shape=input_size, weights='imagenet', include_top=False)\n",
        "\n",
        "# Extract features from each EfficientNetB0 model\n",
        "features_40X = effnet_model(input_40X)\n",
        "features_100X = effnet_model(input_100X)\n",
        "features_200X = effnet_model(input_200X)\n",
        "features_400X = effnet_model(input_400X)\n",
        "\n",
        "# Concatenate the features from all four models\n",
        "combined = concatenate([features_40X, features_100X, features_200X, features_400X])\n",
        "\n",
        "flattened = Flatten()(combined)\n",
        "\n",
        "# Apply additional Fully Connected (FC) layers as needed\n",
        "x = Dense(256, activation='relu')(flattened)\n",
        "x = Dropout(0.5)(x)  # Dropout layer after the first Dense layer\n",
        "x = Dense(128, activation='relu')(x)\n",
        "x = Dropout(0.5)(x)  # Dropout layer after the second Dense layer\n",
        "x = Dense(64, activation='relu')(x)\n",
        "x = Dropout(0.5)(x)\n",
        "output = Dense(1, activation='sigmoid')(x)\n",
        "\n",
        "optimizer = Lion(learning_rate=1e-4)\n",
        "# optimizer = Adam(learning_rate=1e-3)\n",
        "# Create the final model with four inputs and FC layers\n",
        "model = Model(inputs=[input_40X, input_100X, input_200X, input_400X], outputs=output)\n",
        "\n",
        "# Compile the model\n",
        "model.compile(optimizer=optimizer, loss='binary_crossentropy', metrics=['accuracy'])\n",
        "\n",
        "# Summary of the model\n",
        "model.summary()"
      ],
      "metadata": {
        "colab": {
          "base_uri": "https://localhost:8080/"
        },
        "id": "PZp7utq6ETXo",
        "outputId": "93a56d2f-aa4e-4397-e985-7c009e68a577"
      },
      "execution_count": null,
      "outputs": [
        {
          "output_type": "stream",
          "name": "stdout",
          "text": [
            "Model: \"model\"\n",
            "__________________________________________________________________________________________________\n",
            " Layer (type)                Output Shape                 Param #   Connected to                  \n",
            "==================================================================================================\n",
            " input_1 (InputLayer)        [(None, 128, 128, 3)]        0         []                            \n",
            "                                                                                                  \n",
            " input_2 (InputLayer)        [(None, 128, 128, 3)]        0         []                            \n",
            "                                                                                                  \n",
            " input_3 (InputLayer)        [(None, 128, 128, 3)]        0         []                            \n",
            "                                                                                                  \n",
            " input_4 (InputLayer)        [(None, 128, 128, 3)]        0         []                            \n",
            "                                                                                                  \n",
            " efficientnetv2-s (Function  (None, 4, 4, 1280)           2033136   ['input_1[0][0]',             \n",
            " al)                                                      0          'input_2[0][0]',             \n",
            "                                                                     'input_3[0][0]',             \n",
            "                                                                     'input_4[0][0]']             \n",
            "                                                                                                  \n",
            " concatenate (Concatenate)   (None, 4, 4, 5120)           0         ['efficientnetv2-s[0][0]',    \n",
            "                                                                     'efficientnetv2-s[1][0]',    \n",
            "                                                                     'efficientnetv2-s[2][0]',    \n",
            "                                                                     'efficientnetv2-s[3][0]']    \n",
            "                                                                                                  \n",
            " flatten (Flatten)           (None, 81920)                0         ['concatenate[0][0]']         \n",
            "                                                                                                  \n",
            " dense (Dense)               (None, 256)                  2097177   ['flatten[0][0]']             \n",
            "                                                          6                                       \n",
            "                                                                                                  \n",
            " dropout (Dropout)           (None, 256)                  0         ['dense[0][0]']               \n",
            "                                                                                                  \n",
            " dense_1 (Dense)             (None, 128)                  32896     ['dropout[0][0]']             \n",
            "                                                                                                  \n",
            " dropout_1 (Dropout)         (None, 128)                  0         ['dense_1[0][0]']             \n",
            "                                                                                                  \n",
            " dense_2 (Dense)             (None, 64)                   8256      ['dropout_1[0][0]']           \n",
            "                                                                                                  \n",
            " dropout_2 (Dropout)         (None, 64)                   0         ['dense_2[0][0]']             \n",
            "                                                                                                  \n",
            " dense_3 (Dense)             (None, 1)                    65        ['dropout_2[0][0]']           \n",
            "                                                                                                  \n",
            "==================================================================================================\n",
            "Total params: 41344353 (157.72 MB)\n",
            "Trainable params: 41190481 (157.13 MB)\n",
            "Non-trainable params: 153872 (601.06 KB)\n",
            "__________________________________________________________________________________________________\n"
          ]
        }
      ]
    },
    {
      "cell_type": "code",
      "source": [
        "from tensorflow.keras.callbacks import EarlyStopping\n",
        "# Định nghĩa callback EarlyStopping\n",
        "early_stopping_callback = EarlyStopping(\n",
        "    monitor='val_loss',  # the quantity to be monitored (in this case, validation loss)\n",
        "    patience=30,  # number of epochs with no improvement after which training will be stopped\n",
        "    restore_best_weights=True,  # restore model weights from the epoch with the best value of the monitored quantity\n",
        "    verbose=1  # print messages about the early stopping to the console\n",
        ")"
      ],
      "metadata": {
        "id": "GZxDIjaS4_UR"
      },
      "execution_count": null,
      "outputs": []
    },
    {
      "cell_type": "code",
      "source": [
        "history = model.fit(\n",
        "    [x_train_40, x_train_100, x_train_200, x_train_400],\n",
        "    label_train,\n",
        "    epochs=100,  # Số lượng epochs (vòng lặp) huấn luyện\n",
        "    batch_size=16,\n",
        "    validation_split=0.2,  # Phần trăm dữ liệu dành cho validation set\n",
        "    callbacks=[early_stopping_callback]  # Thêm callback EarlyStopping vào quá trình huấn luyện\n",
        ")"
      ],
      "metadata": {
        "colab": {
          "base_uri": "https://localhost:8080/"
        },
        "id": "j7yEoaoiEdTm",
        "outputId": "acb03450-0d24-47c0-e2a8-0fb7e386309f"
      },
      "execution_count": null,
      "outputs": [
        {
          "output_type": "stream",
          "name": "stdout",
          "text": [
            "Epoch 1/100\n",
            "63/63 [==============================] - 138s 600ms/step - loss: 0.8663 - accuracy: 0.6225 - val_loss: 0.4638 - val_accuracy: 0.7880\n",
            "Epoch 2/100\n",
            "63/63 [==============================] - 25s 398ms/step - loss: 0.9094 - accuracy: 0.7470 - val_loss: 0.4608 - val_accuracy: 0.7920\n",
            "Epoch 3/100\n",
            "63/63 [==============================] - 25s 405ms/step - loss: 0.6474 - accuracy: 0.8243 - val_loss: 0.2011 - val_accuracy: 0.9400\n",
            "Epoch 4/100\n",
            "63/63 [==============================] - 25s 399ms/step - loss: 0.5811 - accuracy: 0.8845 - val_loss: 0.1384 - val_accuracy: 0.9480\n",
            "Epoch 5/100\n",
            "63/63 [==============================] - 25s 395ms/step - loss: 0.7337 - accuracy: 0.8635 - val_loss: 0.1950 - val_accuracy: 0.9240\n",
            "Epoch 6/100\n",
            "63/63 [==============================] - 25s 400ms/step - loss: 0.5320 - accuracy: 0.8725 - val_loss: 0.1199 - val_accuracy: 0.9640\n",
            "Epoch 7/100\n",
            "63/63 [==============================] - 25s 394ms/step - loss: 0.5577 - accuracy: 0.9096 - val_loss: 0.2647 - val_accuracy: 0.9480\n",
            "Epoch 8/100\n",
            "63/63 [==============================] - 25s 394ms/step - loss: 0.5282 - accuracy: 0.8926 - val_loss: 0.1315 - val_accuracy: 0.9520\n",
            "Epoch 9/100\n",
            "63/63 [==============================] - 25s 394ms/step - loss: 0.6126 - accuracy: 0.8845 - val_loss: 0.1414 - val_accuracy: 0.9480\n",
            "Epoch 10/100\n",
            "63/63 [==============================] - 25s 395ms/step - loss: 0.4011 - accuracy: 0.8635 - val_loss: 0.2439 - val_accuracy: 0.9200\n",
            "Epoch 11/100\n",
            "63/63 [==============================] - 25s 395ms/step - loss: 0.4606 - accuracy: 0.8504 - val_loss: 0.1931 - val_accuracy: 0.9280\n",
            "Epoch 12/100\n",
            "63/63 [==============================] - 25s 394ms/step - loss: 0.4229 - accuracy: 0.8655 - val_loss: 0.2615 - val_accuracy: 0.9200\n",
            "Epoch 13/100\n",
            "63/63 [==============================] - 25s 393ms/step - loss: 0.3867 - accuracy: 0.8725 - val_loss: 0.2037 - val_accuracy: 0.9640\n",
            "Epoch 14/100\n",
            "63/63 [==============================] - 25s 393ms/step - loss: 0.3839 - accuracy: 0.8564 - val_loss: 0.2177 - val_accuracy: 0.9280\n",
            "Epoch 15/100\n",
            "63/63 [==============================] - 25s 394ms/step - loss: 0.3296 - accuracy: 0.8655 - val_loss: 0.3972 - val_accuracy: 0.8800\n",
            "Epoch 16/100\n",
            "63/63 [==============================] - 25s 394ms/step - loss: 0.3772 - accuracy: 0.8665 - val_loss: 0.1561 - val_accuracy: 0.9560\n",
            "Epoch 17/100\n",
            "63/63 [==============================] - 25s 399ms/step - loss: 0.3101 - accuracy: 0.8755 - val_loss: 0.0980 - val_accuracy: 0.9800\n",
            "Epoch 18/100\n",
            "63/63 [==============================] - 25s 394ms/step - loss: 0.2494 - accuracy: 0.9046 - val_loss: 0.2151 - val_accuracy: 0.9520\n",
            "Epoch 19/100\n",
            "63/63 [==============================] - 25s 394ms/step - loss: 0.2209 - accuracy: 0.9026 - val_loss: 0.1548 - val_accuracy: 0.9360\n",
            "Epoch 20/100\n",
            "63/63 [==============================] - 25s 394ms/step - loss: 0.3705 - accuracy: 0.8855 - val_loss: 0.4194 - val_accuracy: 0.8320\n",
            "Epoch 21/100\n",
            "63/63 [==============================] - 25s 395ms/step - loss: 0.3179 - accuracy: 0.8675 - val_loss: 0.3051 - val_accuracy: 0.8960\n",
            "Epoch 22/100\n",
            "63/63 [==============================] - 25s 395ms/step - loss: 0.4256 - accuracy: 0.8504 - val_loss: 1.1601 - val_accuracy: 0.7560\n",
            "Epoch 23/100\n",
            "63/63 [==============================] - 25s 394ms/step - loss: 0.3088 - accuracy: 0.8514 - val_loss: 0.1686 - val_accuracy: 0.9400\n",
            "Epoch 24/100\n",
            "63/63 [==============================] - 25s 394ms/step - loss: 0.2752 - accuracy: 0.9006 - val_loss: 0.1824 - val_accuracy: 0.9440\n",
            "Epoch 25/100\n",
            "63/63 [==============================] - 25s 394ms/step - loss: 0.2619 - accuracy: 0.8876 - val_loss: 0.1604 - val_accuracy: 0.9440\n",
            "Epoch 26/100\n",
            "63/63 [==============================] - 25s 395ms/step - loss: 0.3714 - accuracy: 0.8906 - val_loss: 0.1581 - val_accuracy: 0.9400\n",
            "Epoch 27/100\n",
            "63/63 [==============================] - 25s 394ms/step - loss: 0.2616 - accuracy: 0.8785 - val_loss: 0.5302 - val_accuracy: 0.8880\n",
            "Epoch 28/100\n",
            "63/63 [==============================] - 25s 394ms/step - loss: 0.3514 - accuracy: 0.8655 - val_loss: 0.2828 - val_accuracy: 0.9120\n",
            "Epoch 29/100\n",
            "63/63 [==============================] - 25s 395ms/step - loss: 0.2910 - accuracy: 0.8936 - val_loss: 0.1550 - val_accuracy: 0.9720\n",
            "Epoch 30/100\n",
            "63/63 [==============================] - 25s 399ms/step - loss: 0.1989 - accuracy: 0.9267 - val_loss: 0.0516 - val_accuracy: 0.9880\n",
            "Epoch 31/100\n",
            "63/63 [==============================] - 25s 394ms/step - loss: 0.1802 - accuracy: 0.9277 - val_loss: 0.2268 - val_accuracy: 0.9480\n",
            "Epoch 32/100\n",
            "63/63 [==============================] - 25s 394ms/step - loss: 0.1960 - accuracy: 0.9287 - val_loss: 0.3025 - val_accuracy: 0.9600\n",
            "Epoch 33/100\n",
            "63/63 [==============================] - 25s 394ms/step - loss: 0.1777 - accuracy: 0.9347 - val_loss: 0.1912 - val_accuracy: 0.9600\n",
            "Epoch 34/100\n",
            "63/63 [==============================] - 25s 394ms/step - loss: 0.2523 - accuracy: 0.9267 - val_loss: 0.0897 - val_accuracy: 0.9720\n",
            "Epoch 35/100\n",
            "63/63 [==============================] - 25s 395ms/step - loss: 0.1541 - accuracy: 0.9558 - val_loss: 0.1500 - val_accuracy: 0.9320\n",
            "Epoch 36/100\n",
            "63/63 [==============================] - 25s 394ms/step - loss: 0.2248 - accuracy: 0.9337 - val_loss: 0.0960 - val_accuracy: 0.9640\n",
            "Epoch 37/100\n",
            "63/63 [==============================] - 25s 393ms/step - loss: 0.1850 - accuracy: 0.9418 - val_loss: 0.1079 - val_accuracy: 0.9760\n",
            "Epoch 38/100\n",
            "63/63 [==============================] - 25s 395ms/step - loss: 0.1770 - accuracy: 0.9398 - val_loss: 0.1027 - val_accuracy: 0.9600\n",
            "Epoch 39/100\n",
            "63/63 [==============================] - 25s 394ms/step - loss: 0.1921 - accuracy: 0.9277 - val_loss: 0.0915 - val_accuracy: 0.9640\n",
            "Epoch 40/100\n",
            "63/63 [==============================] - 25s 395ms/step - loss: 0.1511 - accuracy: 0.9438 - val_loss: 0.0751 - val_accuracy: 0.9720\n",
            "Epoch 41/100\n",
            "63/63 [==============================] - 25s 394ms/step - loss: 0.1983 - accuracy: 0.9588 - val_loss: 0.5072 - val_accuracy: 0.8400\n",
            "Epoch 42/100\n",
            "63/63 [==============================] - 25s 394ms/step - loss: 0.1405 - accuracy: 0.9458 - val_loss: 0.0759 - val_accuracy: 0.9600\n",
            "Epoch 43/100\n",
            "63/63 [==============================] - 25s 395ms/step - loss: 0.1495 - accuracy: 0.9448 - val_loss: 0.0689 - val_accuracy: 0.9800\n",
            "Epoch 44/100\n",
            "63/63 [==============================] - 25s 395ms/step - loss: 0.2121 - accuracy: 0.9538 - val_loss: 0.1426 - val_accuracy: 0.9680\n",
            "Epoch 45/100\n",
            "63/63 [==============================] - 25s 395ms/step - loss: 0.1504 - accuracy: 0.9598 - val_loss: 0.4004 - val_accuracy: 0.9160\n",
            "Epoch 46/100\n",
            "63/63 [==============================] - 25s 395ms/step - loss: 0.2265 - accuracy: 0.9307 - val_loss: 0.1529 - val_accuracy: 0.9440\n",
            "Epoch 47/100\n",
            "63/63 [==============================] - 25s 395ms/step - loss: 0.2424 - accuracy: 0.9106 - val_loss: 0.1592 - val_accuracy: 0.9360\n",
            "Epoch 48/100\n",
            "63/63 [==============================] - 25s 395ms/step - loss: 0.2466 - accuracy: 0.8966 - val_loss: 0.1610 - val_accuracy: 0.9280\n",
            "Epoch 49/100\n",
            "63/63 [==============================] - 25s 394ms/step - loss: 0.2114 - accuracy: 0.8986 - val_loss: 0.1141 - val_accuracy: 0.9680\n",
            "Epoch 50/100\n",
            "63/63 [==============================] - 25s 395ms/step - loss: 0.1712 - accuracy: 0.9398 - val_loss: 0.1016 - val_accuracy: 0.9600\n",
            "Epoch 51/100\n",
            "63/63 [==============================] - 25s 395ms/step - loss: 0.2261 - accuracy: 0.9367 - val_loss: 0.1371 - val_accuracy: 0.9120\n",
            "Epoch 52/100\n",
            "63/63 [==============================] - 25s 395ms/step - loss: 0.2169 - accuracy: 0.9096 - val_loss: 0.1380 - val_accuracy: 0.9520\n",
            "Epoch 53/100\n",
            "63/63 [==============================] - 25s 395ms/step - loss: 0.2293 - accuracy: 0.9378 - val_loss: 0.1361 - val_accuracy: 0.9480\n",
            "Epoch 54/100\n",
            "63/63 [==============================] - 25s 394ms/step - loss: 0.1967 - accuracy: 0.9357 - val_loss: 0.1250 - val_accuracy: 0.9680\n",
            "Epoch 55/100\n",
            "63/63 [==============================] - 25s 395ms/step - loss: 0.2197 - accuracy: 0.9448 - val_loss: 0.1452 - val_accuracy: 0.9680\n",
            "Epoch 56/100\n",
            "63/63 [==============================] - 25s 395ms/step - loss: 0.1767 - accuracy: 0.9408 - val_loss: 0.1449 - val_accuracy: 0.9160\n",
            "Epoch 57/100\n",
            "63/63 [==============================] - 25s 395ms/step - loss: 0.1563 - accuracy: 0.9458 - val_loss: 0.0862 - val_accuracy: 0.9640\n",
            "Epoch 58/100\n",
            "63/63 [==============================] - 25s 393ms/step - loss: 0.1142 - accuracy: 0.9578 - val_loss: 0.0901 - val_accuracy: 0.9760\n",
            "Epoch 59/100\n",
            "63/63 [==============================] - 25s 395ms/step - loss: 0.1897 - accuracy: 0.9578 - val_loss: 0.0887 - val_accuracy: 0.9840\n",
            "Epoch 60/100\n",
            "63/63 [==============================] - ETA: 0s - loss: 0.1984 - accuracy: 0.9488Restoring model weights from the end of the best epoch: 30.\n",
            "63/63 [==============================] - 25s 402ms/step - loss: 0.1984 - accuracy: 0.9488 - val_loss: 0.3231 - val_accuracy: 0.8480\n",
            "Epoch 60: early stopping\n"
          ]
        }
      ]
    },
    {
      "cell_type": "code",
      "source": [
        "import matplotlib.pyplot as plt\n",
        "\n",
        "# Vẽ đồ thị loss và accuracy trên tập huấn luyện và validation\n",
        "plt.figure(figsize=(12, 4))\n",
        "\n",
        "# Vẽ đồ thị loss\n",
        "plt.subplot(1, 2, 1)\n",
        "plt.plot(history.history['loss'], label='Training Loss')\n",
        "plt.plot(history.history['val_loss'], label='Validation Loss')\n",
        "plt.xlabel('Epochs')\n",
        "plt.ylabel('Loss')\n",
        "plt.legend()\n",
        "\n",
        "# Vẽ đồ thị accuracy\n",
        "plt.subplot(1, 2, 2)\n",
        "plt.plot(history.history['accuracy'], label='Training Accuracy')\n",
        "plt.plot(history.history['val_accuracy'], label='Validation Accuracy')\n",
        "plt.xlabel('Epochs')\n",
        "plt.ylabel('Accuracy')\n",
        "plt.legend()\n",
        "\n",
        "# Hiển thị đồ thị\n",
        "plt.show()"
      ],
      "metadata": {
        "id": "s8FJ3Jfj7CY5",
        "colab": {
          "base_uri": "https://localhost:8080/",
          "height": 409
        },
        "outputId": "3ebeed2e-1cf6-414b-a3a5-555cb5eb0a84"
      },
      "execution_count": null,
      "outputs": [
        {
          "output_type": "display_data",
          "data": {
            "text/plain": [
              "<Figure size 1200x400 with 2 Axes>"
            ],
            "image/png": "[encoded data removed]"
          },
          "metadata": {}
        }
      ]
    },
    {
      "cell_type": "code",
      "source": [
        "model.save(path_to_project + \"/model/Model_80-20_Lion-EfficientNetV2S.h5\")"
      ],
      "metadata": {
        "id": "4YOay0XkEfuo",
        "colab": {
          "base_uri": "https://localhost:8080/"
        },
        "outputId": "069bc318-6d54-485d-a6b2-c361a4424b61"
      },
      "execution_count": null,
      "outputs": [
        {
          "output_type": "stream",
          "name": "stderr",
          "text": [
            "/usr/local/lib/python3.10/dist-packages/keras/src/engine/training.py:3103: UserWarning: You are saving your model as an HDF5 file via `model.save()`. This file format is considered legacy. We recommend using instead the native Keras format, e.g. `model.save('my_model.keras')`.\n",
            "  saving_api.save_model(\n"
          ]
        }
      ]
    },
    {
      "cell_type": "code",
      "source": [
        "def model_validation(model):\n",
        "  y_pred = model.predict([x_test_40, x_test_100, x_test_200, x_test_400])\n",
        "  label_pred = (np.array(y_pred) >= 0.5).astype(int)\n",
        "  precision_val = precision_score(label_test, label_pred)\n",
        "  recall_val = recall_score(label_test, label_pred)\n",
        "  f1_score_val = f1_score(label_test, label_pred)\n",
        "  accuracy_val = accuracy_score(label_test, label_pred)\n",
        "  mcc_val = matthews_corrcoef(label_test, label_pred)\n",
        "\n",
        "  print(f\"Precision: {precision_val}\")\n",
        "  print(f\"Recall: {recall_val}\")\n",
        "  print(f\"F1-Score: {f1_score_val}\")\n",
        "  print(f\"Accuracy: {accuracy_val}\")\n",
        "  print(f\"Matthews Correlation Coefficient: {mcc_val}\")\n",
        "\n",
        "  # Tính và vẽ ma trận nhầm lẫn\n",
        "  cm = confusion_matrix(label_test, label_pred)\n",
        "  disp = ConfusionMatrixDisplay(confusion_matrix=cm, display_labels=[0, 1])\n",
        "  disp.plot(cmap=plt.cm.Blues, values_format='.2f')\n",
        "  plt.title('Confusion Matrix')\n",
        "  plt.show()\n",
        "\n",
        "  # Tính đường cong ROC\n",
        "  fpr, tpr, _ = roc_curve(label_test, y_pred)\n",
        "  # Tính diện tích dưới đường cong ROC (AUC)\n",
        "  roc_auc = auc(fpr, tpr)\n",
        "  # Vẽ đường cong ROC\n",
        "  plt.figure()\n",
        "  plt.plot(fpr, tpr, color='darkorange', lw=2, label=f'ROC curve (AUC = {roc_auc:.4f})')\n",
        "  plt.plot([0, 1], [0, 1], color='navy', lw=2, linestyle='--')\n",
        "  plt.xlim([-0.05, 1.0])\n",
        "  plt.ylim([-0.05, 1.05])\n",
        "  plt.xlabel('False Positive Rate')\n",
        "  plt.ylabel('True Positive Rate')\n",
        "  plt.title('Receiver Operating Characteristic (ROC)')\n",
        "  plt.legend(loc=\"lower right\")"
      ],
      "metadata": {
        "id": "jC45eXHR8Kye"
      },
      "execution_count": null,
      "outputs": []
    },
    {
      "cell_type": "code",
      "source": [
        "model_validation(model)"
      ],
      "metadata": {
        "id": "vrvnO7lF75Mq",
        "colab": {
          "base_uri": "https://localhost:8080/",
          "height": 1000
        },
        "outputId": "b9df233b-497c-48b8-9b4c-84950d0dc6d3"
      },
      "execution_count": null,
      "outputs": [
        {
          "output_type": "stream",
          "name": "stdout",
          "text": [
            "10/10 [==============================] - 2s 169ms/step\n",
            "Precision: 0.9720930232558139\n",
            "Recall: 0.9858490566037735\n",
            "F1-Score: 0.9789227166276346\n",
            "Accuracy: 0.9711538461538461\n",
            "Matthews Correlation Coefficient: 0.9334757102395509\n"
          ]
        },
        {
          "output_type": "display_data",
          "data": {
            "text/plain": [
              "<Figure size 640x480 with 2 Axes>"
            ],
            "image/png": "[encoded data removed]"
          },
          "metadata": {}
        },
        {
          "output_type": "display_data",
          "data": {
            "text/plain": [
              "<Figure size 640x480 with 1 Axes>"
            ],
            "image/png": "[encoded data removed]"
          },
          "metadata": {}
        }
      ]
    },
    {
      "cell_type": "code",
      "source": [],
      "metadata": {
        "id": "67QcComGBlQE"
      },
      "execution_count": null,
      "outputs": []
    }
  ]
}